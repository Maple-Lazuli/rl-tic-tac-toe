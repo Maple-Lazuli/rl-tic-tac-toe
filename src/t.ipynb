{
 "cells": [
  {
   "cell_type": "code",
   "execution_count": 14,
   "id": "3fc942fe",
   "metadata": {},
   "outputs": [],
   "source": [
    "import numpy as np\n",
    "import random\n",
    "random.seed(101011)"
   ]
  },
  {
   "cell_type": "code",
   "execution_count": 15,
   "id": "de4eea51",
   "metadata": {},
   "outputs": [],
   "source": [
    "from agent import Agent\n",
    "from environment import Environment"
   ]
  },
  {
   "cell_type": "code",
   "execution_count": 54,
   "id": "71ac858f",
   "metadata": {},
   "outputs": [],
   "source": [
    "def compete(name1, name2, games = 1001):\n",
    "    agent1 = Agent(3,9, name = name1)\n",
    "    agent1.load()\n",
    "    agent2 = Agent(3,9, name = name2)\n",
    "    agent2.load()\n",
    "    \n",
    "    env = Environment(size=3)\n",
    "    \n",
    "    results = {\n",
    "        'pos1':name1,\n",
    "        'pos1-wins': 0,\n",
    "        'pos2':name2,\n",
    "        'pos2-wins': 0,\n",
    "    }\n",
    "    \n",
    "    for _ in range(games):\n",
    "        env.reset()\n",
    "        if random.randint(0,1) == 1:\n",
    "            # Agent 1 goes first\n",
    "            while not env.is_done():\n",
    "                state = env.get_state()['state']\n",
    "                board = env.get_state()['board']\n",
    "                turn = env.get_state()['turn']\n",
    "                action, action_square = agent1.perform(board, state, turn)\n",
    "                \n",
    "                env.update(action_square)\n",
    "                \n",
    "                state = env.get_state()['state']\n",
    "                board = env.get_state()['board']\n",
    "                turn = env.get_state()['turn']\n",
    "                action, action_square = agent2.perform(board, state, turn)\n",
    "                \n",
    "                env.update(action_square)\n",
    "            if env.get_state()['reward'] == 1:\n",
    "                results['pos1-wins'] +=1\n",
    "            else:\n",
    "                results['pos2-wins'] +=1  \n",
    "        else:\n",
    "            # Agent 2 goes first\n",
    "            while not env.is_done():\n",
    "                state = env.get_state()['state']\n",
    "                board = env.get_state()['board']\n",
    "                turn = env.get_state()['turn']\n",
    "                action, action_square = agent2.perform(board, state, turn)\n",
    "                \n",
    "                env.update(action_square)\n",
    "                \n",
    "                state = env.get_state()['state']\n",
    "                board = env.get_state()['board']\n",
    "                turn = env.get_state()['turn']\n",
    "                action, action_square = agent1.perform(board, state, turn)\n",
    "                \n",
    "                env.update(action_square)\n",
    "                \n",
    "            if env.get_state()['reward'] == 1:\n",
    "                results['pos2-wins'] +=1\n",
    "            else:\n",
    "                results['pos1-wins'] +=1\n",
    "                \n",
    "        results['winner'] = name1 if results['pos1-wins'] > results['pos2-wins'] else name2\n",
    "    return results"
   ]
  },
  {
   "cell_type": "code",
   "execution_count": 55,
   "id": "05b7443e",
   "metadata": {},
   "outputs": [
    {
     "data": {
      "text/plain": [
       "{'pos1': 'Agent1',\n",
       " 'pos1-wins': 495,\n",
       " 'pos2': 'Agent2',\n",
       " 'pos2-wins': 506,\n",
       " 'winner': 'Agent2'}"
      ]
     },
     "execution_count": 55,
     "metadata": {},
     "output_type": "execute_result"
    }
   ],
   "source": [
    "compete('Agent1', 'Agent2')"
   ]
  },
  {
   "cell_type": "code",
   "execution_count": 57,
   "id": "37cd3f16",
   "metadata": {},
   "outputs": [
    {
     "data": {
      "text/plain": [
       "{'pos1': 'Agent3',\n",
       " 'pos1-wins': 0,\n",
       " 'pos2': 'Agent4',\n",
       " 'pos2-wins': 1001,\n",
       " 'winner': 'Agent4'}"
      ]
     },
     "execution_count": 57,
     "metadata": {},
     "output_type": "execute_result"
    }
   ],
   "source": [
    "compete('Agent3', 'Agent4')"
   ]
  },
  {
   "cell_type": "code",
   "execution_count": 59,
   "id": "3afe4a08",
   "metadata": {},
   "outputs": [
    {
     "data": {
      "text/plain": [
       "{'pos1': 'Agent5',\n",
       " 'pos1-wins': 0,\n",
       " 'pos2': 'Agent6',\n",
       " 'pos2-wins': 1001,\n",
       " 'winner': 'Agent6'}"
      ]
     },
     "execution_count": 59,
     "metadata": {},
     "output_type": "execute_result"
    }
   ],
   "source": [
    "compete('Agent5', 'Agent6')"
   ]
  },
  {
   "cell_type": "code",
   "execution_count": 60,
   "id": "c0103db0",
   "metadata": {},
   "outputs": [
    {
     "data": {
      "text/plain": [
       "{'pos1': 'Agent2',\n",
       " 'pos1-wins': 506,\n",
       " 'pos2': 'Agent4',\n",
       " 'pos2-wins': 495,\n",
       " 'winner': 'Agent2'}"
      ]
     },
     "execution_count": 60,
     "metadata": {},
     "output_type": "execute_result"
    }
   ],
   "source": [
    "compete('Agent2', 'Agent4')"
   ]
  },
  {
   "cell_type": "code",
   "execution_count": 61,
   "id": "db49b0f0",
   "metadata": {},
   "outputs": [
    {
     "data": {
      "text/plain": [
       "{'pos1': 'Agent7',\n",
       " 'pos1-wins': 533,\n",
       " 'pos2': 'Agent8',\n",
       " 'pos2-wins': 468,\n",
       " 'winner': 'Agent7'}"
      ]
     },
     "execution_count": 61,
     "metadata": {},
     "output_type": "execute_result"
    }
   ],
   "source": [
    "compete('Agent7', 'Agent8')"
   ]
  },
  {
   "cell_type": "code",
   "execution_count": 62,
   "id": "0a888c2a",
   "metadata": {},
   "outputs": [
    {
     "data": {
      "text/plain": [
       "{'pos1': 'Agent6',\n",
       " 'pos1-wins': 1001,\n",
       " 'pos2': 'Agent7',\n",
       " 'pos2-wins': 0,\n",
       " 'winner': 'Agent6'}"
      ]
     },
     "execution_count": 62,
     "metadata": {},
     "output_type": "execute_result"
    }
   ],
   "source": [
    "compete('Agent6', 'Agent7')"
   ]
  },
  {
   "cell_type": "code",
   "execution_count": 63,
   "id": "35979f7d",
   "metadata": {},
   "outputs": [
    {
     "data": {
      "text/plain": [
       "{'pos1': 'Agent6',\n",
       " 'pos1-wins': 505,\n",
       " 'pos2': 'Agent2',\n",
       " 'pos2-wins': 496,\n",
       " 'winner': 'Agent6'}"
      ]
     },
     "execution_count": 63,
     "metadata": {},
     "output_type": "execute_result"
    }
   ],
   "source": [
    "compete('Agent6', 'Agent2')"
   ]
  },
  {
   "cell_type": "code",
   "execution_count": 64,
   "id": "201bdeb4",
   "metadata": {},
   "outputs": [
    {
     "data": {
      "text/plain": [
       "{'pos1': 'Agent6',\n",
       " 'pos1-wins': 508,\n",
       " 'pos2': 'Agent4',\n",
       " 'pos2-wins': 493,\n",
       " 'winner': 'Agent6'}"
      ]
     },
     "execution_count": 64,
     "metadata": {},
     "output_type": "execute_result"
    }
   ],
   "source": [
    "compete('Agent6', 'Agent4')"
   ]
  },
  {
   "cell_type": "code",
   "execution_count": null,
   "id": "22d6b9bc",
   "metadata": {},
   "outputs": [],
   "source": []
  }
 ],
 "metadata": {
  "kernelspec": {
   "display_name": "Python 3 (ipykernel)",
   "language": "python",
   "name": "python3"
  },
  "language_info": {
   "codemirror_mode": {
    "name": "ipython",
    "version": 3
   },
   "file_extension": ".py",
   "mimetype": "text/x-python",
   "name": "python",
   "nbconvert_exporter": "python",
   "pygments_lexer": "ipython3",
   "version": "3.10.6"
  }
 },
 "nbformat": 4,
 "nbformat_minor": 5
}
